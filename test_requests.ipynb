{
 "cells": [
  {
   "cell_type": "markdown",
   "metadata": {},
   "source": [
    "### Check if you are able to get response from Claude through AWS Bedrock"
   ]
  },
  {
   "cell_type": "code",
   "execution_count": 14,
   "metadata": {},
   "outputs": [
    {
     "name": "stdout",
     "output_type": "stream",
     "text": [
      "Hi!\n"
     ]
    }
   ],
   "source": [
    "import requests\n",
    "try:\n",
    "    response = requests.post(\n",
    "        \"http://localhost:8000/chat_claude\",\n",
    "        json={\"text\": \"Say hi in one word\"}\n",
    "    )\n",
    "    response.raise_for_status()\n",
    "    print(response.json()[\"response\"])\n",
    "except requests.exceptions.RequestException as e:\n",
    "    print(f\"Error: {e}\")"
   ]
  },
  {
   "cell_type": "code",
   "execution_count": 15,
   "metadata": {},
   "outputs": [
    {
     "name": "stdout",
     "output_type": "stream",
     "text": [
      "\n",
      "Hello!\n"
     ]
    }
   ],
   "source": [
    "import requests\n",
    "try:\n",
    "    response = requests.post(\n",
    "        \"http://localhost:8000/chat_titan\",\n",
    "        json={\"text\": \"Say hi in one word\"}\n",
    "    )\n",
    "    response.raise_for_status()\n",
    "    print(response.json()[\"response\"])\n",
    "except requests.exceptions.RequestException as e:\n",
    "    print(f\"Error: {e}\")"
   ]
  },
  {
   "cell_type": "markdown",
   "metadata": {},
   "source": [
    "### Check if the API docs are fetched correctly"
   ]
  },
  {
   "cell_type": "code",
   "execution_count": null,
   "metadata": {},
   "outputs": [],
   "source": [
    "import requests\n",
    "weather_response = requests.get(\"http://localhost:8000/weather\")\n",
    "\n",
    "print(weather_response.json()[\"response\"])"
   ]
  },
  {
   "cell_type": "markdown",
   "metadata": {},
   "source": [
    "### Check if the user query is fetched correctly"
   ]
  },
  {
   "cell_type": "code",
   "execution_count": 2,
   "metadata": {},
   "outputs": [
    {
     "name": "stdout",
     "output_type": "stream",
     "text": [
      "{'response': 'What is the weather in London?'}\n"
     ]
    }
   ],
   "source": [
    "import requests\n",
    "weather_response = requests.post(\"http://localhost:8000/user_query\", json={\"user_query\": \"What is the weather in London?\"})\n",
    "\n",
    "print(weather_response.json())"
   ]
  },
  {
   "cell_type": "markdown",
   "metadata": {},
   "source": [
    "### Test the query with Claude as both the mother as well as the child agent"
   ]
  },
  {
   "cell_type": "code",
   "execution_count": 7,
   "metadata": {},
   "outputs": [
    {
     "name": "stdout",
     "output_type": "stream",
     "text": [
      "{'response': 'How is the weather in Nagpur Like?'}\n"
     ]
    }
   ],
   "source": [
    "# First get user query\n",
    "query_response = requests.post(\"http://localhost:8000/user_query\", \n",
    "                             json={\"user_query\": \"How is the weather in Nagpur Like?\"})\n",
    "print(query_response.json())\n",
    "# Then create child agent\n",
    "agent_response = requests.get(\"http://localhost:8000/claude_child_agent\", \n",
    "                            params={\"user_query\": query_response.json()[\"response\"]})"
   ]
  },
  {
   "cell_type": "markdown",
   "metadata": {},
   "source": [
    "### Test the query with Claude as the mother agent and Titan as the child agent"
   ]
  },
  {
   "cell_type": "code",
   "execution_count": null,
   "metadata": {},
   "outputs": [
    {
     "name": "stdout",
     "output_type": "stream",
     "text": [
      "Query Response: {'response': 'How is the climate in Delhi Like?'}\n",
      "Agent Response: {'message': 'Child agent successfully created', 'response': 'import boto3\\nimport requests\\nimport json\\nimport os\\nfrom dotenv import load_dotenv\\n\\nload_dotenv()\\napi_key = os.getenv(\"OPENWEATHERMAP_API_KEY\")\\nbedrock_client = boto3.client(\\'bedrock-runtime\\')\\n\\ndef call_titan(prompt: str):\\n    payload = {\\n        \"inputText\": prompt,\\n        \"textGenerationConfig\": {\\n            \"maxTokenCount\": 200,\\n            \"stopSequences\": [],\\n            \"temperature\": 0.3,\\n            \"topP\": 0.4\\n        }\\n    }\\n\\n    response = bedrock_client.invoke_model(\\n        body=json.dumps(payload),\\n        modelId=\"amazon.titan-text-express-v1\",\\n        contentType=\"application/json\",\\n        accept=\"application/json\"\\n    )\\n    \\n    response_body = json.loads(response[\\'body\\'].read())\\n    return response_body[\\'results\\'][0][\\'outputText\\']\\n\\ndef get_weather(city_name: str):\\n    api_endpoint = \"http://api.openweathermap.org/data/2.5/weather\"\\n    params = {\\n        \"q\": city_name,\\n        \"appid\": os.getenv(\"OPENWEATHERMAP_API_KEY\"),\\n        \"units\": \"metric\"\\n    }\\n\\n    try:\\n        response = requests.get(api_endpoint, params=params)\\n        response.raise_for_status()\\n        data = response.json()\\n        temperature = data[\"main\"][\"temp\"]\\n        weather_description = data[\"weather\"][0][\"description\"]\\n        return f\"Temperature: {int(temperature)} C, Weather: {weather_description}\"\\n    except requests.exceptions.RequestException as e:\\n        return f\"Error: {e}\"\\n\\nuser_query = \"How is the climate in Delhi Like?\"\\ncity_name = \"Delhi\"\\nweather_data = get_weather(city_name)\\nresponse = call_titan(f\"User Query: {user_query}\\\\nWeather Data: {weather_data}\")\\nprint(response)'}\n"
     ]
    }
   ],
   "source": [
    "# Modified client code\n",
    "query_response = requests.post(\"http://localhost:8000/user_query\", \n",
    "                             json={\"user_query\": \"How is the weather in Saulo Paulo Like?\"})\n",
    "print(\"Query Response:\", query_response.json())\n",
    "\n",
    "agent_response = requests.get(\"http://localhost:8000/titan_child_agent\", \n",
    "                            params={\"user_query\": query_response.json()[\"response\"]})\n",
    "print(\"Agent Response:\", agent_response.json())"
   ]
  }
 ],
 "metadata": {
  "kernelspec": {
   "display_name": "weni",
   "language": "python",
   "name": "python3"
  },
  "language_info": {
   "codemirror_mode": {
    "name": "ipython",
    "version": 3
   },
   "file_extension": ".py",
   "mimetype": "text/x-python",
   "name": "python",
   "nbconvert_exporter": "python",
   "pygments_lexer": "ipython3",
   "version": "3.10.15"
  }
 },
 "nbformat": 4,
 "nbformat_minor": 2
}
