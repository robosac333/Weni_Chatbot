{
 "cells": [
  {
   "cell_type": "markdown",
   "metadata": {},
   "source": [
    "### Check if you are able to get response from Claude through AWS Bedrock"
   ]
  },
  {
   "cell_type": "code",
   "execution_count": 14,
   "metadata": {},
   "outputs": [
    {
     "name": "stdout",
     "output_type": "stream",
     "text": [
      "Hi!\n"
     ]
    }
   ],
   "source": [
    "import requests\n",
    "try:\n",
    "    response = requests.post(\n",
    "        \"http://localhost:8000/chat_claude\",\n",
    "        json={\"text\": \"Say hi in one word\"}\n",
    "    )\n",
    "    response.raise_for_status()\n",
    "    print(response.json()[\"response\"])\n",
    "except requests.exceptions.RequestException as e:\n",
    "    print(f\"Error: {e}\")"
   ]
  },
  {
   "cell_type": "code",
   "execution_count": 15,
   "metadata": {},
   "outputs": [
    {
     "name": "stdout",
     "output_type": "stream",
     "text": [
      "\n",
      "Hello!\n"
     ]
    }
   ],
   "source": [
    "import requests\n",
    "try:\n",
    "    response = requests.post(\n",
    "        \"http://localhost:8000/chat_titan\",\n",
    "        json={\"text\": \"Say hi in one word\"}\n",
    "    )\n",
    "    response.raise_for_status()\n",
    "    print(response.json()[\"response\"])\n",
    "except requests.exceptions.RequestException as e:\n",
    "    print(f\"Error: {e}\")"
   ]
  },
  {
   "cell_type": "markdown",
   "metadata": {},
   "source": [
    "### Check if the API docs are fetched correctly"
   ]
  },
  {
   "cell_type": "code",
   "execution_count": null,
   "metadata": {},
   "outputs": [],
   "source": [
    "import requests\n",
    "weather_response = requests.get(\"http://localhost:8000/weather\")\n",
    "\n",
    "print(weather_response.json()[\"response\"])"
   ]
  },
  {
   "cell_type": "markdown",
   "metadata": {},
   "source": [
    "### Check if the user query is fetched correctly"
   ]
  },
  {
   "cell_type": "code",
   "execution_count": 2,
   "metadata": {},
   "outputs": [
    {
     "name": "stdout",
     "output_type": "stream",
     "text": [
      "{'response': 'What is the weather in London?'}\n"
     ]
    }
   ],
   "source": [
    "import requests\n",
    "weather_response = requests.post(\"http://localhost:8000/user_query\", json={\"user_query\": \"What is the weather in London?\"})\n",
    "\n",
    "print(weather_response.json())"
   ]
  },
  {
   "cell_type": "markdown",
   "metadata": {},
   "source": [
    "### Test the query with Claude as both the mother as well as the child agent"
   ]
  },
  {
   "cell_type": "code",
   "execution_count": 43,
   "metadata": {},
   "outputs": [
    {
     "name": "stdout",
     "output_type": "stream",
     "text": [
      "{'response': 'What is the weather like at latitude 37.7749 and longitude -122.4194'}\n"
     ]
    }
   ],
   "source": [
    "query_response = requests.post(\"http://localhost:8000/user_query\", \n",
    "                             json={\"user_query\": \"What is the weather like at latitude 37.7749 and longitude -122.4194\"})\n",
    "print(query_response.json())\n",
    "\n",
    "agent_response = requests.get(\"http://localhost:8000/claude_child_agent\", \n",
    "                            params={\"user_query\": query_response.json()[\"response\"]})"
   ]
  },
  {
   "cell_type": "markdown",
   "metadata": {},
   "source": [
    "### Test the query with Claude as the mother agent and Titan as the child agent"
   ]
  },
  {
   "cell_type": "code",
   "execution_count": 52,
   "metadata": {},
   "outputs": [
    {
     "name": "stdout",
     "output_type": "stream",
     "text": [
      "Query Response: {'response': 'How is the humidity in Saulo Paulo Like?'}\n",
      "Agent Response: {'message': 'Child agent successfully created', 'response': 'import boto3\\nimport requests\\nimport json\\nimport os\\nfrom bedrock_handler import call_titan\\nfrom dotenv import load_dotenv\\n\\nload_dotenv()\\n\\napi_key = os.getenv(\"OPENWEATHERMAP_API_KEY\")\\n\\ndef get_data(city):\\n    try:\\n        url = f\"https://api.openweathermap.org/data/2.5/weather?q={city}&appid={api_key}&units=metric\"\\n        response = requests.get(url)\\n        response.raise_for_status()\\n        data = response.json()\\n        temp = data[\"main\"][\"temp\"]\\n        description = data[\"weather\"][0][\"description\"]\\n        output = f\"Temperature: {temp} C, Weather: {description}\"\\n        return output\\n    except requests.exceptions.RequestException as e:\\n        return f\"Error: {e}\"\\n    except (KeyError, IndexError):\\n        return \"Error: Unable to extract weather data from API response\"\\n    except Exception as e:\\n        return f\"Error: {e}\"\\n\\nuser_query = \"How is the humidity in Saulo Paulo Like?\"\\ncity_name = \"Sao Paulo\"\\ndata = get_data(city_name)\\nresponse = call_titan(data)'}\n"
     ]
    }
   ],
   "source": [
    "query_response = requests.post(\"http://localhost:8000/user_query\", \n",
    "                             json={\"user_query\": \"How is the humidity in Saulo Paulo Like?\"})\n",
    "print(\"Query Response:\", query_response.json())\n",
    "\n",
    "agent_response = requests.get(\"http://localhost:8000/titan_child_agent\", \n",
    "                            params={\"user_query\": query_response.json()[\"response\"]})\n",
    "print(\"Agent Response:\", agent_response.json())"
   ]
  },
  {
   "cell_type": "markdown",
   "metadata": {},
   "source": [
    "### Added a route to test and verify the health of the child agent code and execute it to get the response from the child agent"
   ]
  },
  {
   "cell_type": "code",
   "execution_count": 53,
   "metadata": {},
   "outputs": [
    {
     "name": "stdout",
     "output_type": "stream",
     "text": [
      "{'status': 'success', 'syntax_valid': True, 'message': 'Agent file executed successfully', 'output': ''}\n"
     ]
    }
   ],
   "source": [
    "import requests\n",
    "\n",
    "# The path to the agent file you want to verify\n",
    "agent_file = \"child_agent.py\"\n",
    "\n",
    "# Make the POST request\n",
    "response = requests.post(f\"http://localhost:8000/verify_agent?agent_file={agent_file}\")\n",
    "\n",
    "# Print the response\n",
    "print(response.json())"
   ]
  },
  {
   "cell_type": "code",
   "execution_count": null,
   "metadata": {},
   "outputs": [],
   "source": [
    "import child_agent\n",
    "!python child_agent.py"
   ]
  }
 ],
 "metadata": {
  "kernelspec": {
   "display_name": "weni",
   "language": "python",
   "name": "python3"
  },
  "language_info": {
   "codemirror_mode": {
    "name": "ipython",
    "version": 3
   },
   "file_extension": ".py",
   "mimetype": "text/x-python",
   "name": "python",
   "nbconvert_exporter": "python",
   "pygments_lexer": "ipython3",
   "version": "3.10.15"
  }
 },
 "nbformat": 4,
 "nbformat_minor": 2
}
